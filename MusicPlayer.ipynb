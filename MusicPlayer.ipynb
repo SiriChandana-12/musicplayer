{
 "cells": [
  {
   "cell_type": "code",
   "execution_count": 4,
   "id": "ab1207c9",
   "metadata": {},
   "outputs": [],
   "source": [
    "from pygame import mixer\n",
    "from tkinter import *\n",
    "\n",
    "root = Tk()\n",
    "root.geometry(\"600x300\")\n",
    "\n",
    "mixer.init()\n",
    "mixer.music.load(\"dosti.mp3\")\n",
    "\n",
    "\n",
    "def pause():\n",
    "    mixer.music.pause()\n",
    "\n",
    "\n",
    "def play():\n",
    "    mixer.music.play()\n",
    "\n",
    "\n",
    "def resume():\n",
    "    mixer.music.unpause()\n",
    "    \n",
    "def quitplayer():\n",
    "    mixer.quit()\n",
    "    root.destroy()\n",
    "\n",
    "\n",
    "Label(root, text=\"Welcome to music player\", font=\"lucidia 30 bold\").pack()\n",
    "Button(text=\"Play\", command=play).place(x=200, y=100)\n",
    "Button(text=\"Pause\", command=pause).place(x=250, y=100)\n",
    "Button(text=\"Resume\", command=resume).place(x=310, y=100)\n",
    "Button(text=\"Quit\", command=quitplayer).place(x=380, y=100)\n",
    "\n",
    "root.mainloop()\n"
   ]
  },
  {
   "cell_type": "code",
   "execution_count": null,
   "id": "6cb286e8",
   "metadata": {},
   "outputs": [],
   "source": []
  }
 ],
 "metadata": {
  "kernelspec": {
   "display_name": "Python 3 (ipykernel)",
   "language": "python",
   "name": "python3"
  },
  "language_info": {
   "codemirror_mode": {
    "name": "ipython",
    "version": 3
   },
   "file_extension": ".py",
   "mimetype": "text/x-python",
   "name": "python",
   "nbconvert_exporter": "python",
   "pygments_lexer": "ipython3",
   "version": "3.9.12"
  }
 },
 "nbformat": 4,
 "nbformat_minor": 5
}
